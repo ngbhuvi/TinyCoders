{
 "cells": [
  {
   "cell_type": "code",
   "execution_count": 1,
   "id": "ec7b6f19",
   "metadata": {},
   "outputs": [
    {
     "name": "stdout",
     "output_type": "stream",
     "text": [
      "['The', 'rain', 'in', 'Spain']\n"
     ]
    }
   ],
   "source": [
    "import re\n",
    "\n",
    "txt = \"The rain in Spain\"\n",
    "x = re.split(\"\\s\", txt)\n",
    "print(x)"
   ]
  },
  {
   "cell_type": "code",
   "execution_count": 51,
   "id": "948dd8fa",
   "metadata": {},
   "outputs": [
    {
     "data": {
      "text/plain": [
       "Service\n",
       "Cardiology           95\n",
       "General Medicine    263\n",
       "Hospitalist         101\n",
       "ICU                 151\n",
       "Neurology            65\n",
       "Orthopeadics         45\n",
       "Name: PatientID, dtype: int64"
      ]
     },
     "execution_count": 51,
     "metadata": {},
     "output_type": "execute_result"
    }
   ],
   "source": [
    "import pandas as pd\n",
    "pat=pd.read_csv('D:\\\\Patients.csv')\n",
    "rar= pd.read_csv('D:\\\\Discharges.csv')\n",
    "rar1=rar[rar['Service']==\"ICU\"]\n",
    "pat.groupby(['Gender'])  \n",
    "rar.groupby(['Service'])['PatientID'].count()"
   ]
  },
  {
   "cell_type": "code",
   "execution_count": 13,
   "id": "4b3e3e82",
   "metadata": {},
   "outputs": [
    {
     "name": "stdout",
     "output_type": "stream",
     "text": [
      "            0         1\n",
      "0       Sally       Sue\n",
      "1        Mike     Myers\n",
      "2      Jordan   Michael\n",
      "3         Ted     Texas\n",
      "4         Ala      Bama\n",
      "5       Harry      Kane\n",
      "6       Barry       Bar\n",
      "7         Ted     Green\n",
      "8         Ted     Black\n",
      "9        Fred       Man\n",
      "10        Kim  Kimberly\n",
      "11      Sarah        Ab\n",
      "12    Abigail   Marriot\n",
      "13       Dave        Yu\n",
      "14  Christian     Saint\n",
      "15      Perry    Pardon\n",
      "16       Kent   Kendall\n",
      "17       Ryan     Kevin\n",
      "18      Tyler    Conner\n",
      "19     Bailey    Barret\n",
      "20      Megan     Bonco\n",
      "21     Joesph    Walter\n",
      "22     Walter      King\n",
      "23       Luke      Long\n",
      "24     Justin      Time\n",
      "25       Mike    Joseph\n",
      "26    Bridget    Brenda\n",
      "27     Brenda      Bing\n",
      "28   Chandler      Bing\n",
      "29     Joesph      Ross\n",
      "30     Dwight     Scott\n",
      "31    Michael   Halpert\n",
      "32     Pamela      Ding\n",
      "33       Tony     Creed\n",
      "34    Phyllis   Stanley\n",
      "35      Holly       Hue\n",
      "36      Trent       Tye\n",
      "37   Kimberly      Cone\n",
      "38      Harry      West\n",
      "39      Rosie    Renter\n"
     ]
    }
   ],
   "source": [
    "P=pd.read_csv('D:\\\\Providers.csv')\n",
    "New = P['ProviderName'].str.split(expand=True)\n",
    "print(New)"
   ]
  },
  {
   "cell_type": "code",
   "execution_count": 26,
   "id": "c14326f0",
   "metadata": {},
   "outputs": [
    {
     "data": {
      "image/png": "[encoded data removed]",
      "text/plain": [
       "<Figure size 720x504 with 1 Axes>"
      ]
     },
     "metadata": {
      "needs_background": "light"
     },
     "output_type": "display_data"
    }
   ],
   "source": [
    "import pandas as pd\n",
    "from matplotlib import pyplot as plt\n",
    "#pd.read_csv('D:\\\\Discharges.csv') \n",
    "\n",
    "df = pd.read_csv('D:\\\\Discharges.csv')\n",
    " \n",
    "Service = df['Service'].head(12)\n",
    "ExpectedLOS = df['ExpectedLOS'].head(12)\n",
    " \n",
    "# Figure Size\n",
    "fig = plt.figure(figsize =(10, 7))\n",
    " \n",
    "# Horizontal Bar Plot\n",
    "plt.bar(Service, ExpectedLOS)\n",
    "hatches = [\"*\", \"/\", \"o\", \"x\"]\n",
    " \n",
    "# Show Plot\n",
    "plt.show()"
   ]
  },
  {
   "cell_type": "code",
   "execution_count": 37,
   "id": "3721aa7f",
   "metadata": {},
   "outputs": [],
   "source": [
    "class Acc: \n",
    "    def __init__(self, id): \n",
    "        self.id = id\n",
    "        id = 555 \n",
    "        acc = Acc(111) \n",
    "        print(acc.id)"
   ]
  },
  {
   "cell_type": "code",
   "execution_count": 38,
   "id": "4507ef15",
   "metadata": {},
   "outputs": [
    {
     "name": "stdout",
     "output_type": "stream",
     "text": [
      "Count of White, Female and age above 50 is 119\n"
     ]
    }
   ],
   "source": [
    "import pandas as pd\n",
    "dc=pd.read_csv('D:\\\\Patients.csv')\n",
    "demo=(dc['Gender']==\"Female\")& (dc['Race']==\"White\")&(dc['Age']>=50)\n",
    "pat1=dc[demo]\n",
    "print(f'Count of White, Female and age above 50 is {len(pat1)}')"
   ]
  },
  {
   "cell_type": "code",
   "execution_count": 40,
   "id": "34814f7c",
   "metadata": {},
   "outputs": [
    {
     "name": "stdout",
     "output_type": "stream",
     "text": [
      "    FirstName   LastName\n",
      "100     Calla    Wasiela\n",
      "101     Gipsy   Frankton\n",
      "102    Jethro     Wharin\n",
      "103       Viv    Aylward\n",
      "104     Swift  Dreschler\n",
      "..        ...        ...\n",
      "196      Noam   Laguerre\n",
      "197      Arie    Bayless\n",
      "198    Janaye    O'Mohun\n",
      "199      Fonz      Group\n",
      "200  Cummings     Pickup\n",
      "\n",
      "[101 rows x 2 columns]\n"
     ]
    }
   ],
   "source": [
    "import pandas as pd\n",
    "dc = pd.read_csv('D:\\\\Patients.csv')\n",
    "\n",
    "# retrieving rows by loc method \n",
    "row_100_200 = dc.loc[100:200]\n",
    "\n",
    "# retrieving FirstName, LastName from the Patients dataset\n",
    "req_cols =row_100_200[row_100_200.columns[1:3]]\n",
    "print(req_cols)"
   ]
  },
  {
   "cell_type": "code",
   "execution_count": 41,
   "id": "2140eb9c",
   "metadata": {},
   "outputs": [
    {
     "name": "stdout",
     "output_type": "stream",
     "text": [
      "[[ 9 24 39]\n",
      " [12 33 54]\n",
      " [15 42 69]]\n"
     ]
    }
   ],
   "source": [
    "import numpy as np\n",
    "# two dimensional arrays\n",
    "a = np.array([[1,4],[2,5],[3,6]])\n",
    "b = np.array([[1,4,7],[2,5,8]])\n",
    "c = np.dot(a,b) \n",
    "print(c)\n",
    "\n"
   ]
  },
  {
   "cell_type": "code",
   "execution_count": 42,
   "id": "4368695b",
   "metadata": {},
   "outputs": [
    {
     "data": {
      "text/plain": [
       "PrimaryDiagnosis    Service         \n",
       "AMI                 Cardiology          40\n",
       "                    Hospitalist          1\n",
       "                    ICU                  5\n",
       "                    Neurology            2\n",
       "Afib                Cardiology          10\n",
       "                    ICU                  1\n",
       "Broken Leg          Cardiology           3\n",
       "                    General Medicine     3\n",
       "                    Hospitalist          3\n",
       "Diabetes            General Medicine    38\n",
       "                    Hospitalist         26\n",
       "Fever               General Medicine    13\n",
       "                    Hospitalist          3\n",
       "                    ICU                  3\n",
       "Flu                 Cardiology           2\n",
       "                    General Medicine    54\n",
       "                    Hospitalist         19\n",
       "                    ICU                  3\n",
       "                    Neurology            2\n",
       "Heart Failure       Cardiology          39\n",
       "                    ICU                 33\n",
       "                    Neurology            6\n",
       "Hip Fracture        Orthopeadics        23\n",
       "Hypertension        General Medicine    35\n",
       "                    Hospitalist          6\n",
       "                    ICU                  4\n",
       "                    Neurology            5\n",
       "Kidney Failure      Cardiology           1\n",
       "                    General Medicine    12\n",
       "                    Hospitalist          6\n",
       "                    ICU                  1\n",
       "Knee Replacement    Hospitalist          1\n",
       "                    Orthopeadics        22\n",
       "Laceration          General Medicine    21\n",
       "                    Hospitalist          7\n",
       "                    ICU                  1\n",
       "Migraine            Neurology           12\n",
       "Pain                Neurology            7\n",
       "Pneumonia           General Medicine    67\n",
       "                    Hospitalist         28\n",
       "                    ICU                 77\n",
       "                    Neurology            5\n",
       "Spinal Cord Injury  ICU                  2\n",
       "Stroke              General Medicine    20\n",
       "                    Hospitalist          1\n",
       "                    ICU                 21\n",
       "                    Neurology           26\n",
       "Name: PatientID, dtype: int64"
      ]
     },
     "execution_count": 42,
     "metadata": {},
     "output_type": "execute_result"
    }
   ],
   "source": [
    "import pandas as pd\n",
    "dc=pd.read_csv('D:\\\\Discharges.csv')\n",
    "dc1=dc.groupby(['PrimaryDiagnosis','Service'])['PatientID'].count()\n",
    "dc1"
   ]
  },
  {
   "cell_type": "code",
   "execution_count": 52,
   "id": "3df6376c",
   "metadata": {},
   "outputs": [
    {
     "name": "stdout",
     "output_type": "stream",
     "text": [
      "[[ 9 24 39]\n",
      " [12 33 54]\n",
      " [15 42 69]]\n"
     ]
    }
   ],
   "source": [
    "import numpy as np\n",
    "# two dimensional arrays\n",
    "a = np.array([[1,4],[2,5],[3,6]])\n",
    "b = np.array([[1,4,7],[2,5,8]])\n",
    "c = np.dot(a,b) \n",
    "print(c)"
   ]
  },
  {
   "cell_type": "code",
   "execution_count": 54,
   "id": "3a1a7ef7",
   "metadata": {},
   "outputs": [
    {
     "name": "stdout",
     "output_type": "stream",
     "text": [
      "[ 1  2  3  4  5  6  7  8  9 10 11 12 13 14 15 16 17 18 19 20 21 22 23 24\n",
      " 25 26 27 28 29 30]\n",
      "[[ 1  2  3  4  5]\n",
      " [ 6  7  8  9 10]\n",
      " [11 12 13 14 15]\n",
      " [16 17 18 19 20]\n",
      " [21 22 23 24 25]\n",
      " [26 27 28 29 30]]\n",
      "[4 5]\n",
      "[25 26]\n",
      "[29 30]\n"
     ]
    }
   ],
   "source": [
    "import numpy as np\n",
    "a = np.arange(1,31)\n",
    "print(a)\n",
    "a_4_6 = a.reshape([6, 5]) \n",
    "print(np.reshape(a, [6, 5]))\n",
    "b = a[3:5] \n",
    "print(b)\n",
    "b = a[24:26]\n",
    "print(b)\n",
    "b = a[28:30]\n",
    "print(b)"
   ]
  },
  {
   "cell_type": "code",
   "execution_count": 55,
   "id": "39b44c91",
   "metadata": {},
   "outputs": [
    {
     "data": {
      "text/html": [
       "<div>\n",
       "<style scoped>\n",
       "    .dataframe tbody tr th:only-of-type {\n",
       "        vertical-align: middle;\n",
       "    }\n",
       "\n",
       "    .dataframe tbody tr th {\n",
       "        vertical-align: top;\n",
       "    }\n",
       "\n",
       "    .dataframe thead th {\n",
       "        text-align: right;\n",
       "    }\n",
       "</style>\n",
       "<table border=\"1\" class=\"dataframe\">\n",
       "  <thead>\n",
       "    <tr style=\"text-align: right;\">\n",
       "      <th></th>\n",
       "      <th>Age</th>\n",
       "    </tr>\n",
       "  </thead>\n",
       "  <tbody>\n",
       "    <tr>\n",
       "      <th>0</th>\n",
       "      <td>52</td>\n",
       "    </tr>\n",
       "    <tr>\n",
       "      <th>1</th>\n",
       "      <td>51</td>\n",
       "    </tr>\n",
       "    <tr>\n",
       "      <th>2</th>\n",
       "      <td>62</td>\n",
       "    </tr>\n",
       "    <tr>\n",
       "      <th>3</th>\n",
       "      <td>35</td>\n",
       "    </tr>\n",
       "    <tr>\n",
       "      <th>4</th>\n",
       "      <td>56</td>\n",
       "    </tr>\n",
       "    <tr>\n",
       "      <th>5</th>\n",
       "      <td>38</td>\n",
       "    </tr>\n",
       "    <tr>\n",
       "      <th>6</th>\n",
       "      <td>54</td>\n",
       "    </tr>\n",
       "    <tr>\n",
       "      <th>7</th>\n",
       "      <td>59</td>\n",
       "    </tr>\n",
       "    <tr>\n",
       "      <th>8</th>\n",
       "      <td>37</td>\n",
       "    </tr>\n",
       "    <tr>\n",
       "      <th>10</th>\n",
       "      <td>39</td>\n",
       "    </tr>\n",
       "    <tr>\n",
       "      <th>11</th>\n",
       "      <td>45</td>\n",
       "    </tr>\n",
       "    <tr>\n",
       "      <th>13</th>\n",
       "      <td>43</td>\n",
       "    </tr>\n",
       "    <tr>\n",
       "      <th>14</th>\n",
       "      <td>40</td>\n",
       "    </tr>\n",
       "    <tr>\n",
       "      <th>15</th>\n",
       "      <td>53</td>\n",
       "    </tr>\n",
       "    <tr>\n",
       "      <th>16</th>\n",
       "      <td>57</td>\n",
       "    </tr>\n",
       "    <tr>\n",
       "      <th>18</th>\n",
       "      <td>49</td>\n",
       "    </tr>\n",
       "    <tr>\n",
       "      <th>19</th>\n",
       "      <td>60</td>\n",
       "    </tr>\n",
       "    <tr>\n",
       "      <th>20</th>\n",
       "      <td>61</td>\n",
       "    </tr>\n",
       "    <tr>\n",
       "      <th>22</th>\n",
       "      <td>41</td>\n",
       "    </tr>\n",
       "    <tr>\n",
       "      <th>27</th>\n",
       "      <td>58</td>\n",
       "    </tr>\n",
       "    <tr>\n",
       "      <th>29</th>\n",
       "      <td>48</td>\n",
       "    </tr>\n",
       "    <tr>\n",
       "      <th>31</th>\n",
       "      <td>44</td>\n",
       "    </tr>\n",
       "    <tr>\n",
       "      <th>34</th>\n",
       "      <td>36</td>\n",
       "    </tr>\n",
       "    <tr>\n",
       "      <th>36</th>\n",
       "      <td>50</td>\n",
       "    </tr>\n",
       "    <tr>\n",
       "      <th>46</th>\n",
       "      <td>47</td>\n",
       "    </tr>\n",
       "    <tr>\n",
       "      <th>48</th>\n",
       "      <td>46</td>\n",
       "    </tr>\n",
       "  </tbody>\n",
       "</table>\n",
       "</div>"
      ],
      "text/plain": [
       "    Age\n",
       "0    52\n",
       "1    51\n",
       "2    62\n",
       "3    35\n",
       "4    56\n",
       "5    38\n",
       "6    54\n",
       "7    59\n",
       "8    37\n",
       "10   39\n",
       "11   45\n",
       "13   43\n",
       "14   40\n",
       "15   53\n",
       "16   57\n",
       "18   49\n",
       "19   60\n",
       "20   61\n",
       "22   41\n",
       "27   58\n",
       "29   48\n",
       "31   44\n",
       "34   36\n",
       "36   50\n",
       "46   47\n",
       "48   46"
      ]
     },
     "execution_count": 55,
     "metadata": {},
     "output_type": "execute_result"
    }
   ],
   "source": [
    "import pandas as pd\n",
    "rar= pd.read_csv('D:\\\\ReAdmissionRegistry.csv')\n",
    "pat=  pd.read_csv('D:\\\\Patients.csv')\n",
    "rar1=rar[rar['PrimaryDiagnosis']==\"Stroke\"]\n",
    "rar2 = rar1[[\"PrimaryDiagnosis\", \"PatientID\"]]\n",
    "rar3 = pd.merge(rar2, pat, how=\"inner\", on=\"PatientID\")\n",
    "rar4=rar3[[\"Age\"]].drop_duplicates()\n",
    "rar4"
   ]
  },
  {
   "cell_type": "code",
   "execution_count": 62,
   "id": "9aea4a8c",
   "metadata": {},
   "outputs": [
    {
     "data": {
      "text/plain": [
       "11"
      ]
     },
     "execution_count": 62,
     "metadata": {},
     "output_type": "execute_result"
    }
   ],
   "source": [
    "import pandas as pd\n",
    "dc=pd.read_csv('D:\\\\AmbulatoryVisits.csv')\n",
    "av1=dc.groupby(['VisitDepartmentID'])['DateScheduled'].count().idxmax()\n",
    "av1"
   ]
  },
  {
   "cell_type": "code",
   "execution_count": 63,
   "id": "9dac432f",
   "metadata": {},
   "outputs": [
    {
     "name": "stdout",
     "output_type": "stream",
     "text": [
      "[0.  0.5 1.  1.5 2.  2.5 3.  3.5 4.  4.5 5. ]\n"
     ]
    },
    {
     "data": {
      "image/png": "[encoded data removed]",
      "text/plain": [
       "<Figure size 432x288 with 2 Axes>"
      ]
     },
     "metadata": {
      "needs_background": "light"
     },
     "output_type": "display_data"
    }
   ],
   "source": [
    "# plt.subplot(nrows, ncols, plot_number)\n",
    "x = np.linspace(0, 5, 11)\n",
    "print(x)\n",
    "type(x)\n",
    "y = x ** 2\n",
    "plt.subplot(1,2,1)\n",
    "plt.plot(x, y, 'r--') # More on color options later\n",
    "plt.subplot(1,2,2)\n",
    "plt.plot(y, x, 'g*-');"
   ]
  },
  {
   "cell_type": "code",
   "execution_count": 64,
   "id": "d4874c04",
   "metadata": {},
   "outputs": [
    {
     "data": {
      "text/plain": [
       "60"
      ]
     },
     "execution_count": 64,
     "metadata": {},
     "output_type": "execute_result"
    }
   ],
   "source": [
    "import pandas as pd\n",
    "av=pd.read_csv('D:\\\\AmbulatoryVisits.csv')\n",
    "av1=av[ av['VisitStatus']==\"Canceled\"]\n",
    "len(av1)"
   ]
  },
  {
   "cell_type": "code",
   "execution_count": 65,
   "id": "56ae335f",
   "metadata": {},
   "outputs": [
    {
     "name": "stdout",
     "output_type": "stream",
     "text": [
      "Reason for Visit to Maximum Mortality rate is Hypertension\n"
     ]
    }
   ],
   "source": [
    "import pandas as pd\n",
    "dc = pd.read_csv('D:\\\\Discharges.csv')\n",
    "dc1=dc[ dc['DischargeDisposition']=='Expired']\n",
    "mr=dc1['PrimaryDiagnosis'].value_counts().idxmax()\n",
    "print(f'Reason for Visit to Maximum Mortality rate is {mr}')"
   ]
  },
  {
   "cell_type": "code",
   "execution_count": 67,
   "id": "f5fe3714",
   "metadata": {},
   "outputs": [
    {
     "data": {
      "text/html": [
       "<div>\n",
       "<style scoped>\n",
       "    .dataframe tbody tr th:only-of-type {\n",
       "        vertical-align: middle;\n",
       "    }\n",
       "\n",
       "    .dataframe tbody tr th {\n",
       "        vertical-align: top;\n",
       "    }\n",
       "\n",
       "    .dataframe thead th {\n",
       "        text-align: right;\n",
       "    }\n",
       "</style>\n",
       "<table border=\"1\" class=\"dataframe\">\n",
       "  <thead>\n",
       "    <tr style=\"text-align: right;\">\n",
       "      <th></th>\n",
       "      <th>VisitID</th>\n",
       "      <th>PatientMRN</th>\n",
       "      <th>ProviderID</th>\n",
       "      <th>DateofVisit</th>\n",
       "      <th>DateScheduled</th>\n",
       "      <th>VisitDepartmentID</th>\n",
       "      <th>VisitType</th>\n",
       "      <th>BloodPressureSystolic</th>\n",
       "      <th>BloodPressureDiastolic</th>\n",
       "      <th>Pulse</th>\n",
       "      <th>VisitStatus</th>\n",
       "    </tr>\n",
       "  </thead>\n",
       "  <tbody>\n",
       "    <tr>\n",
       "      <th>757</th>\n",
       "      <td>163</td>\n",
       "      <td>801</td>\n",
       "      <td>11</td>\n",
       "      <td>2/8/2019</td>\n",
       "      <td>2/7/2019</td>\n",
       "      <td>7</td>\n",
       "      <td>Follow Up</td>\n",
       "      <td>120.0</td>\n",
       "      <td>51.695653</td>\n",
       "      <td>53.310495</td>\n",
       "      <td>Completed</td>\n",
       "    </tr>\n",
       "  </tbody>\n",
       "</table>\n",
       "</div>"
      ],
      "text/plain": [
       "     VisitID  PatientMRN  ProviderID DateofVisit DateScheduled  \\\n",
       "757      163         801          11    2/8/2019      2/7/2019   \n",
       "\n",
       "     VisitDepartmentID  VisitType  BloodPressureSystolic  \\\n",
       "757                  7  Follow Up                  120.0   \n",
       "\n",
       "     BloodPressureDiastolic      Pulse VisitStatus  \n",
       "757               51.695653  53.310495   Completed  "
      ]
     },
     "execution_count": 67,
     "metadata": {},
     "output_type": "execute_result"
    }
   ],
   "source": [
    "import pandas as pd\n",
    "AV=pd.read_csv('D:\\\\AmbulatoryVisits.csv')\n",
    "AV.sort_values('BloodPressureDiastolic', ascending=True).head(1)"
   ]
  },
  {
   "cell_type": "code",
   "execution_count": 68,
   "id": "aabcdc0c",
   "metadata": {},
   "outputs": [
    {
     "data": {
      "text/html": [
       "<div>\n",
       "<style scoped>\n",
       "    .dataframe tbody tr th:only-of-type {\n",
       "        vertical-align: middle;\n",
       "    }\n",
       "\n",
       "    .dataframe tbody tr th {\n",
       "        vertical-align: top;\n",
       "    }\n",
       "\n",
       "    .dataframe thead th {\n",
       "        text-align: right;\n",
       "    }\n",
       "</style>\n",
       "<table border=\"1\" class=\"dataframe\">\n",
       "  <thead>\n",
       "    <tr style=\"text-align: right;\">\n",
       "      <th></th>\n",
       "      <th>VisitID</th>\n",
       "      <th>PatientMRN</th>\n",
       "      <th>ProviderID</th>\n",
       "      <th>DateofVisit</th>\n",
       "      <th>DateScheduled</th>\n",
       "      <th>VisitDepartmentID</th>\n",
       "      <th>VisitType</th>\n",
       "      <th>BloodPressureSystolic</th>\n",
       "      <th>BloodPressureDiastolic</th>\n",
       "      <th>Pulse</th>\n",
       "      <th>VisitStatus</th>\n",
       "    </tr>\n",
       "  </thead>\n",
       "  <tbody>\n",
       "    <tr>\n",
       "      <th>0</th>\n",
       "      <td>202</td>\n",
       "      <td>840</td>\n",
       "      <td>29</td>\n",
       "      <td>3/19/2019</td>\n",
       "      <td>3/13/2019</td>\n",
       "      <td>10</td>\n",
       "      <td>Physical</td>\n",
       "      <td>188.0</td>\n",
       "      <td>144.143427</td>\n",
       "      <td>83.04492</td>\n",
       "      <td>No Show</td>\n",
       "    </tr>\n",
       "  </tbody>\n",
       "</table>\n",
       "</div>"
      ],
      "text/plain": [
       "   VisitID  PatientMRN  ProviderID DateofVisit DateScheduled  \\\n",
       "0      202         840          29   3/19/2019     3/13/2019   \n",
       "\n",
       "   VisitDepartmentID VisitType  BloodPressureSystolic  BloodPressureDiastolic  \\\n",
       "0                 10  Physical                  188.0              144.143427   \n",
       "\n",
       "      Pulse VisitStatus  \n",
       "0  83.04492     No Show  "
      ]
     },
     "execution_count": 68,
     "metadata": {},
     "output_type": "execute_result"
    }
   ],
   "source": [
    "import pandas as pd\n",
    "AV=pd.read_csv('D:\\\\AmbulatoryVisits.csv')\n",
    "New1 = AV.sort_values('BloodPressureSystolic', ascending=False)\n",
    "New1.loc[[0]]"
   ]
  },
  {
   "cell_type": "code",
   "execution_count": 69,
   "id": "c8c981bc",
   "metadata": {},
   "outputs": [
    {
     "name": "stdout",
     "output_type": "stream",
     "text": [
      "Gender\n",
      "Female    408\n",
      "Male      537\n",
      "Name: Gender, dtype: int64\n"
     ]
    }
   ],
   "source": [
    "import pandas as  pd\n",
    "Patients =  pd.read_csv(\"Patients.csv\")\n",
    "Gender_count =  Patients.groupby('Gender')['Gender'].count()\n",
    "print(Gender_count)"
   ]
  },
  {
   "cell_type": "code",
   "execution_count": null,
   "id": "3bc865e4",
   "metadata": {},
   "outputs": [],
   "source": []
  }
 ],
 "metadata": {
  "kernelspec": {
   "display_name": "Python 3 (ipykernel)",
   "language": "python",
   "name": "python3"
  },
  "language_info": {
   "codemirror_mode": {
    "name": "ipython",
    "version": 3
   },
   "file_extension": ".py",
   "mimetype": "text/x-python",
   "name": "python",
   "nbconvert_exporter": "python",
   "pygments_lexer": "ipython3",
   "version": "3.9.12"
  }
 },
 "nbformat": 4,
 "nbformat_minor": 5
}
