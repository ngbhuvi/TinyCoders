{
 "cells": [
  {
   "cell_type": "code",
   "execution_count": 4,
   "id": "91d4706f",
   "metadata": {},
   "outputs": [
    {
     "name": "stdout",
     "output_type": "stream",
     "text": [
      "Enter the count for list : 8\n",
      "1\n",
      "2\n",
      "3\n",
      "4\n",
      "5\n",
      "6\n",
      "7\n",
      "8\n",
      "List is [1, 2, 3, 4, 5, 6, 7, 8]\n",
      "Center Values for even list are (4, 5)\n"
     ]
    }
   ],
   "source": [
    "#23.Function to find the center element in the list. (1 element in odd length list, 2 elements in even length list)\n",
    "def getCenter(getlist):\n",
    "    centernum = float(len(getlist))/2\n",
    "    if len(getlist) % 2 != 0:\n",
    "        return  print(f'Center Value for odd list is {getlist[round(centernum - .5)]}')\n",
    "    else:\n",
    "        return print(f'Center Values for even list are {getlist[round(centernum-1)], getlist[round(centernum)]}')\n",
    "getlist = []\n",
    "count = int(input(\"Enter the count for list : \"))\n",
    "for i in range(0, count):\n",
    "    val = int(input())\n",
    "    getlist.append(val) \n",
    "print(f'List is {getlist}')\n",
    "getCenter(getlist)\n",
    "\n",
    "    \n"
   ]
  },
  {
   "cell_type": "code",
   "execution_count": 349,
   "id": "ce4c9e4b",
   "metadata": {},
   "outputs": [
    {
     "name": "stdout",
     "output_type": "stream",
     "text": [
      "Enter the table you wanted to display: 9\n",
      "9 * 1 = 9\n",
      "9 * 2 = 18\n",
      "9 * 3 = 27\n",
      "9 * 4 = 36\n",
      "9 * 5 = 45\n",
      "9 * 6 = 54\n",
      "9 * 7 = 63\n",
      "9 * 8 = 72\n",
      "9 * 9 = 81\n",
      "9 * 10 = 90\n"
     ]
    }
   ],
   "source": [
    "#32.Write a function to print the table of the given number\n",
    "def multiplytable(number):\n",
    "    x=1\n",
    "    while(x<=10):\n",
    "        ans=x*number\n",
    "        print(f'{number} * {x} = {ans}')\n",
    "        x+=1\n",
    "table= int(input(\"Enter the table you wanted to display: \"))\n",
    "multiplytable(table)"
   ]
  },
  {
   "cell_type": "code",
   "execution_count": 443,
   "id": "141da88a",
   "metadata": {},
   "outputs": [
    {
     "name": "stdout",
     "output_type": "stream",
     "text": [
      "Count of Spanish, Male and White is 15\n"
     ]
    }
   ],
   "source": [
    "#31.Find count of White Spanish Male\n",
    "pat = pd.read_csv('Patients.csv')\n",
    "demo=(pat['Gender']==\"Male\")& (pat['Race']==\"White\")&(pat['Language']==\"Spanish\")\n",
    "pat1=pat[demo]\n",
    "print(f'Count of Spanish, Male and White is {len(pat1)}')\n",
    "\n",
    "\n"
   ]
  },
  {
   "cell_type": "code",
   "execution_count": 204,
   "id": "c769d6cf",
   "metadata": {},
   "outputs": [
    {
     "name": "stdout",
     "output_type": "stream",
     "text": [
      "Visit type for maximum No Show is Telemedicine\n"
     ]
    }
   ],
   "source": [
    "#41.Find the visit type with maximum 'No Show'\n",
    "import pandas as pd\n",
    "av = pd.read_csv('AmbulatoryVisits.csv')\n",
    "av1=av[ av['VisitStatus']==\"No Show\"]\n",
    "ns=av1['VisitType'].value_counts().idxmax()\n",
    "print(f'Visit type for maximum No Show is {ns}')\n"
   ]
  },
  {
   "cell_type": "code",
   "execution_count": 350,
   "id": "3201a181",
   "metadata": {},
   "outputs": [
    {
     "name": "stdout",
     "output_type": "stream",
     "text": [
      "Reason for Visit to Maximum Mortality rate is Hypertension\n"
     ]
    }
   ],
   "source": [
    "#28.Which reason of visit has maximum mortality rate\n",
    "import pandas as pd\n",
    "dc = pd.read_csv('Discharges.csv')\n",
    "dc1=dc[ dc['DischargeDisposition']=='Expired']\n",
    "mr=dc1['PrimaryDiagnosis'].value_counts().idxmax()\n",
    "print(f'Reason for Visit to Maximum Mortality rate is {mr}')"
   ]
  },
  {
   "cell_type": "code",
   "execution_count": 351,
   "id": "66a33115",
   "metadata": {},
   "outputs": [
    {
     "name": "stdout",
     "output_type": "stream",
     "text": [
      "Patient ID who has ReRegistered maximum is 23\n"
     ]
    }
   ],
   "source": [
    "#30.Which patientid has most entries in readmission registry\n",
    "import pandas as pd\n",
    "rar= pd.read_csv('ReAdmissionRegistry.csv')\n",
    "id=rar['PatientID'].value_counts().idxmax()\n",
    "print(f'Patient ID who has ReRegistered maximum is {id}')"
   ]
  },
  {
   "cell_type": "code",
   "execution_count": 297,
   "id": "1a195208",
   "metadata": {},
   "outputs": [
    {
     "data": {
      "text/html": [
       "<div>\n",
       "<style scoped>\n",
       "    .dataframe tbody tr th:only-of-type {\n",
       "        vertical-align: middle;\n",
       "    }\n",
       "\n",
       "    .dataframe tbody tr th {\n",
       "        vertical-align: top;\n",
       "    }\n",
       "\n",
       "    .dataframe thead th {\n",
       "        text-align: right;\n",
       "    }\n",
       "</style>\n",
       "<table border=\"1\" class=\"dataframe\">\n",
       "  <thead>\n",
       "    <tr style=\"text-align: right;\">\n",
       "      <th></th>\n",
       "      <th>Gender</th>\n",
       "      <th>Race</th>\n",
       "      <th>Language</th>\n",
       "    </tr>\n",
       "  </thead>\n",
       "  <tbody>\n",
       "    <tr>\n",
       "      <th>0</th>\n",
       "      <td>Male</td>\n",
       "      <td>White</td>\n",
       "      <td>English</td>\n",
       "    </tr>\n",
       "    <tr>\n",
       "      <th>1</th>\n",
       "      <td>Male</td>\n",
       "      <td>White</td>\n",
       "      <td>Spanish</td>\n",
       "    </tr>\n",
       "    <tr>\n",
       "      <th>3</th>\n",
       "      <td>Female</td>\n",
       "      <td>White</td>\n",
       "      <td>Spanish</td>\n",
       "    </tr>\n",
       "    <tr>\n",
       "      <th>10</th>\n",
       "      <td>Male</td>\n",
       "      <td>Black/African-American</td>\n",
       "      <td>Spanish</td>\n",
       "    </tr>\n",
       "    <tr>\n",
       "      <th>15</th>\n",
       "      <td>Female</td>\n",
       "      <td>Black/African-American</td>\n",
       "      <td>Spanish</td>\n",
       "    </tr>\n",
       "    <tr>\n",
       "      <th>18</th>\n",
       "      <td>Female</td>\n",
       "      <td>Black/African-American</td>\n",
       "      <td>English</td>\n",
       "    </tr>\n",
       "    <tr>\n",
       "      <th>19</th>\n",
       "      <td>Male</td>\n",
       "      <td>Black/African-American</td>\n",
       "      <td>English</td>\n",
       "    </tr>\n",
       "    <tr>\n",
       "      <th>40</th>\n",
       "      <td>Female</td>\n",
       "      <td>White</td>\n",
       "      <td>English</td>\n",
       "    </tr>\n",
       "  </tbody>\n",
       "</table>\n",
       "</div>"
      ],
      "text/plain": [
       "    Gender                    Race Language\n",
       "0     Male                   White  English\n",
       "1     Male                   White  Spanish\n",
       "3   Female                   White  Spanish\n",
       "10    Male  Black/African-American  Spanish\n",
       "15  Female  Black/African-American  Spanish\n",
       "18  Female  Black/African-American  English\n",
       "19    Male  Black/African-American  English\n",
       "40  Female                   White  English"
      ]
     },
     "execution_count": 297,
     "metadata": {},
     "output_type": "execute_result"
    }
   ],
   "source": [
    "#21.Which demographic patients are prone to get stroke\n",
    "import pandas as pd\n",
    "rar= pd.read_csv('ReAdmissionRegistry.csv')\n",
    "pat= pd.read_csv('Patients.csv')\n",
    "rar1=rar[rar['PrimaryDiagnosis']==\"Stroke\"]\n",
    "rar2 = rar1[[\"PrimaryDiagnosis\", \"PatientID\"]]\n",
    "rar3 = pd.merge(rar2, pat, how=\"inner\", on=\"PatientID\")\n",
    "rar4=rar3[[\"Gender\",\"Race\",\"Language\"]].drop_duplicates()\n",
    "rar4"
   ]
  },
  {
   "cell_type": "code",
   "execution_count": 384,
   "id": "08c87d82",
   "metadata": {},
   "outputs": [
    {
     "data": {
      "text/plain": [
       "PrimaryDiagnosis\n",
       "Afib                1\n",
       "Diabetes            7\n",
       "Flu                 2\n",
       "Heart Failure       9\n",
       "Knee Replacement    1\n",
       "Laceration          1\n",
       "Pain                1\n",
       "Pneumonia           8\n",
       "Stroke              9\n",
       "Name: DischargeDisposition, dtype: int64"
      ]
     },
     "execution_count": 384,
     "metadata": {},
     "output_type": "execute_result"
    }
   ],
   "source": [
    "#38.Number of patients on 'Transfer' based on primary diagnosis\n",
    "import pandas as pd\n",
    "dc=pd.read_csv('Discharges.csv')\n",
    "dc1=dc[ dc['DischargeDisposition']==\"Transfer\"]\n",
    "dc2=dc1.groupby('PrimaryDiagnosis')['DischargeDisposition'].count()\n",
    "dc2"
   ]
  },
  {
   "cell_type": "code",
   "execution_count": 381,
   "id": "fe0e0ce5",
   "metadata": {},
   "outputs": [
    {
     "name": "stdout",
     "output_type": "stream",
     "text": [
      "Enter your sentence: bfii\n",
      "There are no upper case letters in th sentence \n"
     ]
    }
   ],
   "source": [
    "#37.Write a function to print all the upper case letter of a given sentence\n",
    "def findUpperCase(input): \n",
    "    s=\"False\"\n",
    "    for i in input:\n",
    "        if i.isupper():\n",
    "            s=\"True\"\n",
    "            print(i) \n",
    "    if s==\"False\":\n",
    "            print(\"There are no upper case letters in th sentence \")\n",
    "findUpperCase(input(\"Enter your sentence: \"))"
   ]
  },
  {
   "cell_type": "code",
   "execution_count": 383,
   "id": "f02a7ea6",
   "metadata": {},
   "outputs": [
    {
     "name": "stdout",
     "output_type": "stream",
     "text": [
      "Enter your String: jfba\n",
      "There are no numeric values in th string \n"
     ]
    }
   ],
   "source": [
    "#43.Write a regular expression to find all the digits and numbers in the string\n",
    "def findNumbers(input):\n",
    "    s=\"False\" \n",
    "    for i in input:\n",
    "        if i.isnumeric():\n",
    "            s=\"True\"\n",
    "            print(i)  \n",
    "    if s==\"False\":\n",
    "        print(\"There are no numeric values in th string \")\n",
    "findNumbers(input(\"Enter your String: \"))\n"
   ]
  },
  {
   "cell_type": "code",
   "execution_count": 429,
   "id": "9af66761",
   "metadata": {},
   "outputs": [
    {
     "name": "stdout",
     "output_type": "stream",
     "text": [
      "[11 12]\n",
      "[16 17]\n"
     ]
    }
   ],
   "source": [
    "#34.np.arange(1,31).reshape(6,5) Find the array slicing to get the elements with values 11,12,16,17\n",
    "import numpy as np\n",
    "a = np.arange(1,31).reshape(6,5)\n",
    "print(a[2, 0:2])\n",
    "print(a[3, 0:2])"
   ]
  },
  {
   "cell_type": "code",
   "execution_count": 563,
   "id": "fe66b642",
   "metadata": {},
   "outputs": [
    {
     "name": "stdout",
     "output_type": "stream",
     "text": [
      "[2]\n",
      "[8]\n",
      "[14]\n",
      "[20]\n"
     ]
    }
   ],
   "source": [
    "#35.np.arange(1,31).reshape(6,5), find array slicing for elements 2,8,14,20\n",
    "import numpy as np\n",
    "a = np.arange(1,31)\n",
    "print(a[1:2])\n",
    "print(a[7:8])\n",
    "print(a[13:14])\n",
    "print(a[19:20])"
   ]
  },
  {
   "cell_type": "code",
   "execution_count": 539,
   "id": "eb2168b3",
   "metadata": {},
   "outputs": [
    {
     "data": {
      "text/html": [
       "<div>\n",
       "<style scoped>\n",
       "    .dataframe tbody tr th:only-of-type {\n",
       "        vertical-align: middle;\n",
       "    }\n",
       "\n",
       "    .dataframe tbody tr th {\n",
       "        vertical-align: top;\n",
       "    }\n",
       "\n",
       "    .dataframe thead th {\n",
       "        text-align: right;\n",
       "    }\n",
       "</style>\n",
       "<table border=\"1\" class=\"dataframe\">\n",
       "  <thead>\n",
       "    <tr style=\"text-align: right;\">\n",
       "      <th></th>\n",
       "      <th>AdmissionID</th>\n",
       "      <th>PatientID</th>\n",
       "      <th>AdmissionDate</th>\n",
       "      <th>DischargeDate</th>\n",
       "      <th>DischargeDisposition</th>\n",
       "      <th>Service</th>\n",
       "      <th>PrimaryDiagnosis</th>\n",
       "      <th>ExpectedLOS</th>\n",
       "      <th>ExpectedMortality</th>\n",
       "      <th>LengthofStay</th>\n",
       "    </tr>\n",
       "  </thead>\n",
       "  <tbody>\n",
       "    <tr>\n",
       "      <th>0</th>\n",
       "      <td>1</td>\n",
       "      <td>9</td>\n",
       "      <td>1/1/2018</td>\n",
       "      <td>1/7/2018</td>\n",
       "      <td>Expired</td>\n",
       "      <td>Cardiology</td>\n",
       "      <td>AMI</td>\n",
       "      <td>9.646857</td>\n",
       "      <td>0.061540</td>\n",
       "      <td>6 days</td>\n",
       "    </tr>\n",
       "    <tr>\n",
       "      <th>1</th>\n",
       "      <td>257</td>\n",
       "      <td>93</td>\n",
       "      <td>1/6/2018</td>\n",
       "      <td>1/18/2018</td>\n",
       "      <td>Expired</td>\n",
       "      <td>Cardiology</td>\n",
       "      <td>Broken Leg</td>\n",
       "      <td>6.816558</td>\n",
       "      <td>0.628827</td>\n",
       "      <td>12 days</td>\n",
       "    </tr>\n",
       "    <tr>\n",
       "      <th>2</th>\n",
       "      <td>152</td>\n",
       "      <td>101</td>\n",
       "      <td>1/7/2018</td>\n",
       "      <td>1/11/2018</td>\n",
       "      <td>Expired</td>\n",
       "      <td>Cardiology</td>\n",
       "      <td>Kidney Failure</td>\n",
       "      <td>6.580273</td>\n",
       "      <td>0.573887</td>\n",
       "      <td>4 days</td>\n",
       "    </tr>\n",
       "    <tr>\n",
       "      <th>3</th>\n",
       "      <td>361</td>\n",
       "      <td>102</td>\n",
       "      <td>1/7/2018</td>\n",
       "      <td>1/15/2018</td>\n",
       "      <td>Expired</td>\n",
       "      <td>Cardiology</td>\n",
       "      <td>Afib</td>\n",
       "      <td>12.794536</td>\n",
       "      <td>0.222163</td>\n",
       "      <td>8 days</td>\n",
       "    </tr>\n",
       "    <tr>\n",
       "      <th>4</th>\n",
       "      <td>258</td>\n",
       "      <td>103</td>\n",
       "      <td>1/7/2018</td>\n",
       "      <td>1/15/2018</td>\n",
       "      <td>Expired</td>\n",
       "      <td>Cardiology</td>\n",
       "      <td>Broken Leg</td>\n",
       "      <td>2.639297</td>\n",
       "      <td>0.055468</td>\n",
       "      <td>8 days</td>\n",
       "    </tr>\n",
       "    <tr>\n",
       "      <th>...</th>\n",
       "      <td>...</td>\n",
       "      <td>...</td>\n",
       "      <td>...</td>\n",
       "      <td>...</td>\n",
       "      <td>...</td>\n",
       "      <td>...</td>\n",
       "      <td>...</td>\n",
       "      <td>...</td>\n",
       "      <td>...</td>\n",
       "      <td>...</td>\n",
       "    </tr>\n",
       "    <tr>\n",
       "      <th>715</th>\n",
       "      <td>715</td>\n",
       "      <td>716</td>\n",
       "      <td>2/21/2018</td>\n",
       "      <td>3/6/2018</td>\n",
       "      <td>Transfer</td>\n",
       "      <td>ICU</td>\n",
       "      <td>Heart Failure</td>\n",
       "      <td>11.362095</td>\n",
       "      <td>0.370695</td>\n",
       "      <td>13 days</td>\n",
       "    </tr>\n",
       "    <tr>\n",
       "      <th>716</th>\n",
       "      <td>698</td>\n",
       "      <td>723</td>\n",
       "      <td>2/22/2018</td>\n",
       "      <td>2/26/2018</td>\n",
       "      <td>Transfer</td>\n",
       "      <td>ICU</td>\n",
       "      <td>Heart Failure</td>\n",
       "      <td>10.262312</td>\n",
       "      <td>0.812930</td>\n",
       "      <td>4 days</td>\n",
       "    </tr>\n",
       "    <tr>\n",
       "      <th>717</th>\n",
       "      <td>704</td>\n",
       "      <td>724</td>\n",
       "      <td>2/22/2018</td>\n",
       "      <td>2/27/2018</td>\n",
       "      <td>Transfer</td>\n",
       "      <td>General Medicine</td>\n",
       "      <td>Pneumonia</td>\n",
       "      <td>6.036234</td>\n",
       "      <td>0.094128</td>\n",
       "      <td>5 days</td>\n",
       "    </tr>\n",
       "    <tr>\n",
       "      <th>718</th>\n",
       "      <td>716</td>\n",
       "      <td>733</td>\n",
       "      <td>2/22/2018</td>\n",
       "      <td>3/5/2018</td>\n",
       "      <td>Transfer</td>\n",
       "      <td>ICU</td>\n",
       "      <td>Heart Failure</td>\n",
       "      <td>13.323413</td>\n",
       "      <td>0.490892</td>\n",
       "      <td>11 days</td>\n",
       "    </tr>\n",
       "    <tr>\n",
       "      <th>719</th>\n",
       "      <td>710</td>\n",
       "      <td>742</td>\n",
       "      <td>2/22/2018</td>\n",
       "      <td>3/10/2018</td>\n",
       "      <td>Transfer</td>\n",
       "      <td>General Medicine</td>\n",
       "      <td>Diabetes</td>\n",
       "      <td>7.195441</td>\n",
       "      <td>0.286439</td>\n",
       "      <td>16 days</td>\n",
       "    </tr>\n",
       "  </tbody>\n",
       "</table>\n",
       "<p>720 rows × 10 columns</p>\n",
       "</div>"
      ],
      "text/plain": [
       "     AdmissionID  PatientID AdmissionDate DischargeDate DischargeDisposition  \\\n",
       "0              1          9      1/1/2018      1/7/2018              Expired   \n",
       "1            257         93      1/6/2018     1/18/2018              Expired   \n",
       "2            152        101      1/7/2018     1/11/2018              Expired   \n",
       "3            361        102      1/7/2018     1/15/2018              Expired   \n",
       "4            258        103      1/7/2018     1/15/2018              Expired   \n",
       "..           ...        ...           ...           ...                  ...   \n",
       "715          715        716     2/21/2018      3/6/2018             Transfer   \n",
       "716          698        723     2/22/2018     2/26/2018             Transfer   \n",
       "717          704        724     2/22/2018     2/27/2018             Transfer   \n",
       "718          716        733     2/22/2018      3/5/2018             Transfer   \n",
       "719          710        742     2/22/2018     3/10/2018             Transfer   \n",
       "\n",
       "              Service PrimaryDiagnosis  ExpectedLOS  ExpectedMortality  \\\n",
       "0          Cardiology              AMI     9.646857           0.061540   \n",
       "1          Cardiology       Broken Leg     6.816558           0.628827   \n",
       "2          Cardiology   Kidney Failure     6.580273           0.573887   \n",
       "3          Cardiology             Afib    12.794536           0.222163   \n",
       "4          Cardiology       Broken Leg     2.639297           0.055468   \n",
       "..                ...              ...          ...                ...   \n",
       "715               ICU    Heart Failure    11.362095           0.370695   \n",
       "716               ICU    Heart Failure    10.262312           0.812930   \n",
       "717  General Medicine        Pneumonia     6.036234           0.094128   \n",
       "718               ICU    Heart Failure    13.323413           0.490892   \n",
       "719  General Medicine         Diabetes     7.195441           0.286439   \n",
       "\n",
       "    LengthofStay  \n",
       "0         6 days  \n",
       "1        12 days  \n",
       "2         4 days  \n",
       "3         8 days  \n",
       "4         8 days  \n",
       "..           ...  \n",
       "715      13 days  \n",
       "716       4 days  \n",
       "717       5 days  \n",
       "718      11 days  \n",
       "719      16 days  \n",
       "\n",
       "[720 rows x 10 columns]"
      ]
     },
     "execution_count": 539,
     "metadata": {},
     "output_type": "execute_result"
    }
   ],
   "source": [
    "#29.Calculate average LOS\n",
    "\n",
    "import pandas as pd\n",
    "import numpy as np\n",
    "import datetime\n",
    "from dateutil.relativedelta import relativedelta\n",
    "from datetime import date\n",
    "dc=pd.read_csv('Discharges.csv')\n",
    "dc['LengthofStay'] = (pd.to_datetime(dc['DischargeDate']).dt.date) - (pd.to_datetime(dc['AdmissionDate']).dt.date)\n",
    "averagelos = dc['LengthofStay'].mean()\n",
    "averagelos"
   ]
  },
  {
   "cell_type": "code",
   "execution_count": 488,
   "id": "a2661f21",
   "metadata": {},
   "outputs": [
    {
     "name": "stdout",
     "output_type": "stream",
     "text": [
      "           EDVisitID  PatientID    Acuity\n",
      "EDVisitID   1.000000   0.975477  0.005813\n",
      "PatientID   0.975477   1.000000  0.003545\n",
      "Acuity      0.005813   0.003545  1.000000\n"
     ]
    }
   ],
   "source": [
    "#36.Create a correlation matrix on EDVisits\n",
    "import pandas as pd\n",
    "ed=pd.read_csv('EDVisits.csv')\n",
    "corrMatrix = ed.corr()\n",
    "print (corrMatrix)"
   ]
  },
  {
   "cell_type": "code",
   "execution_count": null,
   "id": "94353da5",
   "metadata": {},
   "outputs": [],
   "source": []
  },
  {
   "cell_type": "code",
   "execution_count": 553,
   "id": "d617a1cf",
   "metadata": {},
   "outputs": [
    {
     "ename": "AttributeError",
     "evalue": "'numpy.int64' object has no attribute 'idxmin'",
     "output_type": "error",
     "traceback": [
      "\u001b[1;31m---------------------------------------------------------------------------\u001b[0m",
      "\u001b[1;31mAttributeError\u001b[0m                            Traceback (most recent call last)",
      "\u001b[1;32m~\\AppData\\Local\\Temp/ipykernel_81476/1708945471.py\u001b[0m in \u001b[0;36m<module>\u001b[1;34m\u001b[0m\n\u001b[0;32m      7\u001b[0m \u001b[1;33m\u001b[0m\u001b[0m\n\u001b[0;32m      8\u001b[0m \u001b[0mService\u001b[0m \u001b[1;33m=\u001b[0m \u001b[0mdf\u001b[0m\u001b[1;33m[\u001b[0m\u001b[1;34m'Service'\u001b[0m\u001b[1;33m]\u001b[0m\u001b[1;33m.\u001b[0m\u001b[0mhead\u001b[0m\u001b[1;33m(\u001b[0m\u001b[1;36m12\u001b[0m\u001b[1;33m)\u001b[0m\u001b[1;33m\u001b[0m\u001b[1;33m\u001b[0m\u001b[0m\n\u001b[1;32m----> 9\u001b[1;33m \u001b[0mExpectedMortality\u001b[0m \u001b[1;33m=\u001b[0m \u001b[0mdf\u001b[0m\u001b[1;33m[\u001b[0m\u001b[1;34m'ExpectedMortality'\u001b[0m\u001b[1;33m]\u001b[0m\u001b[1;33m.\u001b[0m\u001b[0mcount\u001b[0m\u001b[1;33m(\u001b[0m\u001b[1;33m)\u001b[0m\u001b[1;33m.\u001b[0m\u001b[0midxmin\u001b[0m\u001b[1;33m(\u001b[0m\u001b[1;33m)\u001b[0m\u001b[1;33m\u001b[0m\u001b[1;33m\u001b[0m\u001b[0m\n\u001b[0m\u001b[0;32m     10\u001b[0m \u001b[1;33m\u001b[0m\u001b[0m\n\u001b[0;32m     11\u001b[0m \u001b[1;31m# Figure Size\u001b[0m\u001b[1;33m\u001b[0m\u001b[1;33m\u001b[0m\u001b[0m\n",
      "\u001b[1;31mAttributeError\u001b[0m: 'numpy.int64' object has no attribute 'idxmin'"
     ]
    }
   ],
   "source": [
    "import pandas as pd\n",
    "from matplotlib import pyplot as plt\n",
    "rr = pd.read_csv('ReAdmissionRegistry.csv')\n",
    "mr=rr.groupby(['Service'])['ExpectedMortality'].count().idxmin()\n",
    "\n",
    "df = pd.DataFrame(rr)\n",
    " \n",
    "Service = df['Service'].head(12)\n",
    "ExpectedMortality = df['ExpectedMortality'].count().idxmin()\n",
    " \n",
    "# Figure Size\n",
    "fig = plt.figure(figsize =(10, 7))\n",
    " \n",
    "# Horizontal Bar Plot\n",
    "plt.bar(Service, ExpectedMortality)\n",
    "hatches = [\"*\", \"/\", \"o\", \"x\"]\n",
    " \n",
    "# Show Plot\n",
    "plt.show()\n",
    "\n"
   ]
  },
  {
   "cell_type": "code",
   "execution_count": 569,
   "id": "cd73b57a",
   "metadata": {},
   "outputs": [
    {
     "data": {
      "text/plain": [
       "11"
      ]
     },
     "execution_count": 569,
     "metadata": {},
     "output_type": "execute_result"
    }
   ],
   "source": [
    "#50.Which departmentID has maximum number of visits scheduled.\n",
    "import pandas as pd\n",
    "av=pd.read_csv('AmbulatoryVisits.csv')\n",
    "av1=av.groupby(['VisitDepartmentID'])['DateScheduled'].count().idxmax()\n",
    "av1"
   ]
  },
  {
   "cell_type": "code",
   "execution_count": 571,
   "id": "1ecfc2bd",
   "metadata": {},
   "outputs": [
    {
     "data": {
      "text/plain": [
       "PrimaryDiagnosis    Service         \n",
       "AMI                 Cardiology          40\n",
       "                    Hospitalist          1\n",
       "                    ICU                  5\n",
       "                    Neurology            2\n",
       "Afib                Cardiology          10\n",
       "                    ICU                  1\n",
       "Broken Leg          Cardiology           3\n",
       "                    General Medicine     3\n",
       "                    Hospitalist          3\n",
       "Diabetes            General Medicine    38\n",
       "                    Hospitalist         26\n",
       "Fever               General Medicine    13\n",
       "                    Hospitalist          3\n",
       "                    ICU                  3\n",
       "Flu                 Cardiology           2\n",
       "                    General Medicine    54\n",
       "                    Hospitalist         19\n",
       "                    ICU                  3\n",
       "                    Neurology            2\n",
       "Heart Failure       Cardiology          39\n",
       "                    ICU                 33\n",
       "                    Neurology            6\n",
       "Hip Fracture        Orthopeadics        23\n",
       "Hypertension        General Medicine    35\n",
       "                    Hospitalist          6\n",
       "                    ICU                  4\n",
       "                    Neurology            5\n",
       "Kidney Failure      Cardiology           1\n",
       "                    General Medicine    12\n",
       "                    Hospitalist          6\n",
       "                    ICU                  1\n",
       "Knee Replacement    Hospitalist          1\n",
       "                    Orthopeadics        22\n",
       "Laceration          General Medicine    21\n",
       "                    Hospitalist          7\n",
       "                    ICU                  1\n",
       "Migraine            Neurology           12\n",
       "Pain                Neurology            7\n",
       "Pneumonia           General Medicine    67\n",
       "                    Hospitalist         28\n",
       "                    ICU                 77\n",
       "                    Neurology            5\n",
       "Spinal Cord Injury  ICU                  2\n",
       "Stroke              General Medicine    20\n",
       "                    Hospitalist          1\n",
       "                    ICU                 21\n",
       "                    Neurology           26\n",
       "Name: PatientID, dtype: int64"
      ]
     },
     "execution_count": 571,
     "metadata": {},
     "output_type": "execute_result"
    }
   ],
   "source": [
    "#20.Count of number of patients admitted based on Primary Diagnosis and Service provided\n",
    "import pandas as pd\n",
    "dc=pd.read_csv('Discharges.csv')\n",
    "dc1=dc.groupby(['PrimaryDiagnosis','Service'])['PatientID'].count()\n",
    "dc1"
   ]
  },
  {
   "cell_type": "code",
   "execution_count": 13,
   "id": "0c787412",
   "metadata": {},
   "outputs": [
    {
     "data": {
      "text/plain": [
       "60"
      ]
     },
     "execution_count": 13,
     "metadata": {},
     "output_type": "execute_result"
    }
   ],
   "source": [
    "#56.Count of canceled status\n",
    "import pandas as pd\n",
    "av=pd.read_csv('AmbulatoryVisits.csv')\n",
    "av1=av[ av['VisitStatus']==\"Canceled\"]\n",
    "len(av1)\n"
   ]
  },
  {
   "cell_type": "code",
   "execution_count": 17,
   "id": "751f7128",
   "metadata": {},
   "outputs": [
    {
     "data": {
      "text/plain": [
       "<AxesSubplot:xlabel='VisitDepartmentID', ylabel='count'>"
      ]
     },
     "execution_count": 17,
     "metadata": {},
     "output_type": "execute_result"
    },
    {
     "data": {
      "image/png": "[encoded data removed]",
      "text/plain": [
       "<Figure size 432x288 with 1 Axes>"
      ]
     },
     "metadata": {
      "needs_background": "light"
     },
     "output_type": "display_data"
    }
   ],
   "source": [
    "\n",
    "#25.Plot a graph by counting the no. of patients in each department\n",
    "import seaborn as sns\n",
    "sns.countplot(x='VisitDepartmentID',data=av)"
   ]
  },
  {
   "cell_type": "code",
   "execution_count": 5,
   "id": "8172de71",
   "metadata": {},
   "outputs": [
    {
     "data": {
      "text/plain": [
       "<AxesSubplot:xlabel='DischargeDisposition', ylabel='count'>"
      ]
     },
     "execution_count": 5,
     "metadata": {},
     "output_type": "execute_result"
    },
    {
     "data": {
      "image/png": "[encoded data removed]",
      "text/plain": [
       "<Figure size 432x288 with 1 Axes>"
      ]
     },
     "metadata": {
      "needs_background": "light"
     },
     "output_type": "display_data"
    }
   ],
   "source": [
    "\n",
    "#27. Using Arrays and Loops, find the count of of patients based on gender\n",
    "import seaborn as sns\n",
    "import pandas as pd\n",
    "dc=pd.read_csv('Discharges.csv')\n",
    "sns.countplot(x='DischargeDisposition',data=dc)"
   ]
  },
  {
   "cell_type": "code",
   "execution_count": null,
   "id": "aeb2888e",
   "metadata": {},
   "outputs": [],
   "source": []
  }
 ],
 "metadata": {
  "kernelspec": {
   "display_name": "Python 3 (ipykernel)",
   "language": "python",
   "name": "python3"
  },
  "language_info": {
   "codemirror_mode": {
    "name": "ipython",
    "version": 3
   },
   "file_extension": ".py",
   "mimetype": "text/x-python",
   "name": "python",
   "nbconvert_exporter": "python",
   "pygments_lexer": "ipython3",
   "version": "3.9.12"
  }
 },
 "nbformat": 4,
 "nbformat_minor": 5
}
